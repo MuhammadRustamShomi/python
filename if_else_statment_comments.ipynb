{
  "nbformat": 4,
  "nbformat_minor": 0,
  "metadata": {
    "colab": {
      "name": "if else statment comments.ipynb",
      "provenance": [],
      "collapsed_sections": [],
      "authorship_tag": "ABX9TyOYutgWK06Ed9I4yG0i+28b",
      "include_colab_link": true
    },
    "kernelspec": {
      "name": "python3",
      "display_name": "Python 3"
    },
    "language_info": {
      "name": "python"
    }
  },
  "cells": [
    {
      "cell_type": "markdown",
      "metadata": {
        "id": "view-in-github",
        "colab_type": "text"
      },
      "source": [
        "<a href=\"https://colab.research.google.com/github/MuhammadRustamShomi/python/blob/main/if_else_statment_comments.ipynb\" target=\"_parent\"><img src=\"https://colab.research.google.com/assets/colab-badge.svg\" alt=\"Open In Colab\"/></a>"
      ]
    },
    {
      "cell_type": "code",
      "metadata": {
        "colab": {
          "base_uri": "https://localhost:8080/"
        },
        "id": "7TkOWiaSe2A4",
        "outputId": "ce9ad4c9-a1b1-414d-8f22-c8379d9b967e"
      },
      "source": [
        "a= 100\n",
        "b= 200\n",
        "\n",
        "if a<b:\n",
        "  print(\"a is less then b\")"
      ],
      "execution_count": null,
      "outputs": [
        {
          "output_type": "stream",
          "text": [
            "a is less then b\n"
          ],
          "name": "stdout"
        }
      ]
    },
    {
      "cell_type": "code",
      "metadata": {
        "colab": {
          "base_uri": "https://localhost:8080/"
        },
        "id": "sSfUFAXXabAC",
        "outputId": "94efe53e-df7b-4c0f-93fc-e07b69108847"
      },
      "source": [
        "a=5\n",
        "b=4\n",
        "if a<b:\n",
        "  print(\"a is greater then b\")\n",
        "  print(\"a is greater then b\")\n",
        "print(\"greater \")"
      ],
      "execution_count": null,
      "outputs": [
        {
          "output_type": "stream",
          "text": [
            "greater \n"
          ],
          "name": "stdout"
        }
      ]
    },
    {
      "cell_type": "code",
      "metadata": {
        "id": "bqMnfK_8hNel"
      },
      "source": [
        "a= 100\n",
        "b= 200\n",
        "\n",
        "if a>b:\n",
        "  print(\"a is greater then b\")\n",
        "#print(\"a is less then b\")"
      ],
      "execution_count": null,
      "outputs": []
    },
    {
      "cell_type": "code",
      "metadata": {
        "colab": {
          "base_uri": "https://localhost:8080/"
        },
        "id": "7EUaNMXkiRCG",
        "outputId": "a772f101-e438-4131-8170-617bbe70cbf6"
      },
      "source": [
        "username = input(\"Enter username:\")\n",
        "print(\"Username is: \" + username)"
      ],
      "execution_count": null,
      "outputs": [
        {
          "output_type": "stream",
          "text": [
            "Enter username:Muhammad Rustam\n",
            "Username is: Muhammad Rustam\n"
          ],
          "name": "stdout"
        }
      ]
    },
    {
      "cell_type": "code",
      "metadata": {
        "colab": {
          "base_uri": "https://localhost:8080/"
        },
        "id": "mdWkhV9MjTns",
        "outputId": "fb3912f3-d8ef-4e5c-ce4d-e7bf714975f2"
      },
      "source": [
        "# Python program showing\n",
        "# a use of input()\n",
        "\n",
        "val = input(\"Enter your value: \")\n",
        "print(val)\n"
      ],
      "execution_count": null,
      "outputs": [
        {
          "output_type": "stream",
          "text": [
            "Enter your value: 25\n",
            "25\n"
          ],
          "name": "stdout"
        }
      ]
    },
    {
      "cell_type": "code",
      "metadata": {
        "colab": {
          "base_uri": "https://localhost:8080/"
        },
        "id": "dIi3t8Pjjak9",
        "outputId": "3a87dde7-39de-4984-b141-a2922aefcf4d"
      },
      "source": [
        "value1 = input(\"Please enter first integer:\\n\")\n",
        "value2 = input(\"Please enter second integer:\\n\")\n",
        " \n",
        "v1 = int(value1)\n",
        "v2 = int(value2)\n",
        " \n",
        "choice = input(\"Enter 1 for addition.\\nEnter 2 for subtraction.\\nEnter 3 for Multiplication.:\\n\")\n",
        "choice = int(choice)\n",
        " \n",
        "if choice == 1:\n",
        "    print(f'You entered {v1} and {v2} and their addition is {v1 + v2}')\n",
        "elif choice == 2:\n",
        "    print(f'You entered {v1} and {v2} and their subtraction is {v1 - v2}')\n",
        "elif choice == 3:\n",
        "    print(f'You entered {v1} and {v2} and their multiplication is {v1 * v2}')\n",
        "else:\n",
        "    print(\"Wrong Choice, terminating the program.\")"
      ],
      "execution_count": null,
      "outputs": [
        {
          "output_type": "stream",
          "text": [
            "Please enter first integer:\n",
            "50\n",
            "Please enter second integer:\n",
            "10\n",
            "Enter 1 for addition.\n",
            "Enter 2 for subtraction.\n",
            "Enter 3 for Multiplication.:\n",
            "1\n",
            "You entered 50 and 10 and their addition is 60\n"
          ],
          "name": "stdout"
        }
      ]
    },
    {
      "cell_type": "code",
      "metadata": {
        "colab": {
          "base_uri": "https://localhost:8080/"
        },
        "id": "VRDx6SJLlXmJ",
        "outputId": "fe761cff-0225-48b5-f77c-9d4ac91df2b6"
      },
      "source": [
        "#comments \n",
        "# if you want to print a line for sepration of two codes  \n",
        "\n",
        "print(\"-\"*50)"
      ],
      "execution_count": null,
      "outputs": [
        {
          "output_type": "stream",
          "text": [
            "--------------------------------------------------\n"
          ],
          "name": "stdout"
        }
      ]
    },
    {
      "cell_type": "code",
      "metadata": {
        "colab": {
          "base_uri": "https://localhost:8080/"
        },
        "id": "clW0ddRfmcjq",
        "outputId": "9635d098-e953-4583-8571-d6b668b0c7cd"
      },
      "source": [
        "print(\"This will run.\")  # This won't run"
      ],
      "execution_count": null,
      "outputs": [
        {
          "output_type": "stream",
          "text": [
            "This will run.\n"
          ],
          "name": "stdout"
        }
      ]
    },
    {
      "cell_type": "code",
      "metadata": {
        "colab": {
          "base_uri": "https://localhost:8080/",
          "height": 129
        },
        "id": "y41uE6d1m4S4",
        "outputId": "c0d75c2a-bc42-4479-8975-4b657577dd36"
      },
      "source": [
        "# This is a pretty good example\n",
        "# of how you can spread comments"
      ],
      "execution_count": null,
      "outputs": [
        {
          "output_type": "error",
          "ename": "SyntaxError",
          "evalue": "ignored",
          "traceback": [
            "\u001b[0;36m  File \u001b[0;32m\"<ipython-input-13-d47b9f39377f>\"\u001b[0;36m, line \u001b[0;32m3\u001b[0m\n\u001b[0;31m    # of how you can spread comments\u001b[0m\n\u001b[0m                                    ^\u001b[0m\n\u001b[0;31mSyntaxError\u001b[0m\u001b[0;31m:\u001b[0m unexpected EOF while parsing\n"
          ]
        }
      ]
    },
    {
      "cell_type": "code",
      "metadata": {
        "id": "JIfpS5-rnNFC"
      },
      "source": [
        "\n",
        "# If I really hate pressing `enter` and\n",
        "# typing all those hash marks, I could\n",
        "# just do this instead               ( select all then   press  CTRL + /)  "
      ],
      "execution_count": null,
      "outputs": []
    }
  ]
}
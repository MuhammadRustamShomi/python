{
  "nbformat": 4,
  "nbformat_minor": 0,
  "metadata": {
    "colab": {
      "name": "Ciphercodingdecoding.ipynb",
      "provenance": [],
      "authorship_tag": "ABX9TyNu4hezD8WKY72b7y0Nzhni",
      "include_colab_link": true
    },
    "kernelspec": {
      "name": "python3",
      "display_name": "Python 3"
    },
    "language_info": {
      "name": "python"
    }
  },
  "cells": [
    {
      "cell_type": "markdown",
      "metadata": {
        "id": "view-in-github",
        "colab_type": "text"
      },
      "source": [
        "<a href=\"https://colab.research.google.com/github/MuhammadRustamShomi/python/blob/main/Ciphercodingdecoding.ipynb\" target=\"_parent\"><img src=\"https://colab.research.google.com/assets/colab-badge.svg\" alt=\"Open In Colab\"/></a>"
      ]
    },
    {
      "cell_type": "code",
      "execution_count": 1,
      "metadata": {
        "colab": {
          "base_uri": "https://localhost:8080/"
        },
        "id": "_U_HvNJhcC2Z",
        "outputId": "dbf0b73e-3bbb-4e06-b3c2-e8d2eaa5a5b2"
      },
      "outputs": [
        {
          "output_type": "stream",
          "name": "stdout",
          "text": [
            "Enter text you would like to cipher:i  miss you\n",
            "i  miss you\n",
            "LPLVVBRXU\n",
            "IMISSYOURU\n"
          ]
        }
      ],
      "source": [
        "L2I = dict(zip(\"ABCDEFGHIJKLMNOPQRSTUVWXYZ\",range(26)))\n",
        "I2L = dict(zip(range(26),\"ABCDEFGHIJKLMNOPQRSTUVWXYZ\"))\n",
        "\n",
        "key = 3\n",
        "plaintext = (input(\"Enter text you would like to cipher:\"))\n",
        "\n",
        "ciphertext = \"\"\n",
        "for c in plaintext.upper():\n",
        "    if c.isalpha(): ciphertext += I2L[ (L2I[c] + key)%26 ]\n",
        "else: \n",
        "    ciphertext += c\n",
        "\n",
        "plaintext2 = \"\"\n",
        "for c in ciphertext.upper():\n",
        "    if c.isalpha(): plaintext2 += I2L[ (L2I[c] - key)%26 ]\n",
        "else: \n",
        "    plaintext2 += c\n",
        "\n",
        "print(plaintext)\n",
        "print(ciphertext)\n",
        "print(plaintext2)"
      ]
    }
  ]
}
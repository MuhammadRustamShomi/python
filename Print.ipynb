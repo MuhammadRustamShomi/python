{
  "nbformat": 4,
  "nbformat_minor": 0,
  "metadata": {
    "colab": {
      "name": "Print.ipynb",
      "provenance": [],
      "collapsed_sections": [],
      "authorship_tag": "ABX9TyMg8WU4V5+LNdBHnEOle2Lj",
      "include_colab_link": true
    },
    "kernelspec": {
      "name": "python3",
      "display_name": "Python 3"
    },
    "language_info": {
      "name": "python"
    }
  },
  "cells": [
    {
      "cell_type": "markdown",
      "metadata": {
        "id": "view-in-github",
        "colab_type": "text"
      },
      "source": [
        "<a href=\"https://colab.research.google.com/github/MuhammadRustamShomi/python/blob/main/Print.ipynb\" target=\"_parent\"><img src=\"https://colab.research.google.com/assets/colab-badge.svg\" alt=\"Open In Colab\"/></a>"
      ]
    },
    {
      "cell_type": "code",
      "metadata": {
        "colab": {
          "base_uri": "https://localhost:8080/"
        },
        "id": "pL9A-d-YZyhW",
        "outputId": "d60180bf-9fb0-4653-9281-3857661f6f36"
      },
      "source": [
        "print(1000)\n"
      ],
      "execution_count": null,
      "outputs": [
        {
          "output_type": "stream",
          "text": [
            "1000\n"
          ],
          "name": "stdout"
        }
      ]
    },
    {
      "cell_type": "code",
      "metadata": {
        "colab": {
          "base_uri": "https://localhost:8080/"
        },
        "id": "wuSUDLhLaZ99",
        "outputId": "24628f5e-10ed-404b-f088-bf2eeac0cd0a"
      },
      "source": [
        "print(10,100)"
      ],
      "execution_count": null,
      "outputs": [
        {
          "output_type": "stream",
          "text": [
            "10 100\n"
          ],
          "name": "stdout"
        }
      ]
    },
    {
      "cell_type": "code",
      "metadata": {
        "colab": {
          "base_uri": "https://localhost:8080/"
        },
        "id": "eM5jrg2zbDD-",
        "outputId": "3f9e4c5e-b382-4f2d-8784-59447028a642"
      },
      "source": [
        "print(12, 15.4)"
      ],
      "execution_count": null,
      "outputs": [
        {
          "output_type": "stream",
          "text": [
            "12 15.4\n"
          ],
          "name": "stdout"
        }
      ]
    },
    {
      "cell_type": "code",
      "metadata": {
        "colab": {
          "base_uri": "https://localhost:8080/"
        },
        "id": "bSwUukdDbQYZ",
        "outputId": "6d68b0cd-ceac-4bc4-d2c3-363844151bb9"
      },
      "source": [
        "print(\"python\")"
      ],
      "execution_count": null,
      "outputs": [
        {
          "output_type": "stream",
          "text": [
            "python\n"
          ],
          "name": "stdout"
        }
      ]
    },
    {
      "cell_type": "code",
      "metadata": {
        "colab": {
          "base_uri": "https://localhost:8080/"
        },
        "id": "lyHgTSexbVp5",
        "outputId": "68a8f569-d2da-4ea4-88eb-e400a9d4b0e9"
      },
      "source": [
        "print(\"12\")"
      ],
      "execution_count": null,
      "outputs": [
        {
          "output_type": "stream",
          "text": [
            "12\n"
          ],
          "name": "stdout"
        }
      ]
    },
    {
      "cell_type": "code",
      "metadata": {
        "colab": {
          "base_uri": "https://localhost:8080/"
        },
        "id": "21LdOsSLbiU2",
        "outputId": "11fe2684-8420-48ac-c77b-17e53569f476"
      },
      "source": [
        "print(\"123Pakistan\")"
      ],
      "execution_count": null,
      "outputs": [
        {
          "output_type": "stream",
          "text": [
            "123Pakistan\n"
          ],
          "name": "stdout"
        }
      ]
    },
    {
      "cell_type": "code",
      "metadata": {
        "colab": {
          "base_uri": "https://localhost:8080/"
        },
        "id": "heY0R0mVcdcp",
        "outputId": "b35cdc30-0d46-43f0-ce77-94191fc76936"
      },
      "source": [
        "print('pakistan','python','piaic')\n",
        "print()"
      ],
      "execution_count": null,
      "outputs": [
        {
          "output_type": "stream",
          "text": [
            "pakistan python piaic\n"
          ],
          "name": "stdout"
        }
      ]
    },
    {
      "cell_type": "code",
      "metadata": {
        "colab": {
          "base_uri": "https://localhost:8080/"
        },
        "id": "hDJks6GZcrht",
        "outputId": "1784639e-7b2c-4b8d-87ab-ef5ca7b31bf0"
      },
      "source": [
        "print('pakistan','python','piaic',sep=\"\")"
      ],
      "execution_count": null,
      "outputs": [
        {
          "output_type": "stream",
          "text": [
            "pakistanpythonpiaic\n"
          ],
          "name": "stdout"
        }
      ]
    },
    {
      "cell_type": "code",
      "metadata": {
        "colab": {
          "base_uri": "https://localhost:8080/"
        },
        "id": "BXjg8E8KdDuL",
        "outputId": "427a7b11-4cbd-4a48-e5e8-53016ef54002"
      },
      "source": [
        "print('pakistan','python','piaic',sep=\"&\")"
      ],
      "execution_count": null,
      "outputs": [
        {
          "output_type": "stream",
          "text": [
            "pakistan&python&piaic\n"
          ],
          "name": "stdout"
        }
      ]
    },
    {
      "cell_type": "code",
      "metadata": {
        "colab": {
          "base_uri": "https://localhost:8080/"
        },
        "id": "SFEUI-xadYLn",
        "outputId": "18bcf10a-86ef-41b7-82ac-a64a094926cf"
      },
      "source": [
        "print('pakistan')\n",
        "print('Is')\n",
        "print('the Best')"
      ],
      "execution_count": null,
      "outputs": [
        {
          "output_type": "stream",
          "text": [
            "pakistan\n",
            "Is\n",
            "the Best\n"
          ],
          "name": "stdout"
        }
      ]
    },
    {
      "cell_type": "code",
      "metadata": {
        "colab": {
          "base_uri": "https://localhost:8080/"
        },
        "id": "1UoqrhLGeSfe",
        "outputId": "fcfd339d-aafa-4659-821e-8ad379c2f153"
      },
      "source": [
        "print('pakistan',end=\"\")\n",
        "print('Is',end=\"\")\n",
        "print('the Best')"
      ],
      "execution_count": null,
      "outputs": [
        {
          "output_type": "stream",
          "text": [
            "pakistanIsthe Best\n"
          ],
          "name": "stdout"
        }
      ]
    },
    {
      "cell_type": "code",
      "metadata": {
        "colab": {
          "base_uri": "https://localhost:8080/"
        },
        "id": "qm5zMQmdeeBw",
        "outputId": "f5e6e0c3-2461-435f-db38-935fdfa3c47f"
      },
      "source": [
        "print('pakistan',end=\"\\t\\t\")\n",
        "print('Is',end=\"\\t\")\n",
        "print('the Best')"
      ],
      "execution_count": null,
      "outputs": [
        {
          "output_type": "stream",
          "text": [
            "pakistan\t\tIs\tthe Best\n"
          ],
          "name": "stdout"
        }
      ]
    },
    {
      "cell_type": "code",
      "metadata": {
        "colab": {
          "base_uri": "https://localhost:8080/"
        },
        "id": "YBXWpSA3e9q7",
        "outputId": "8aa0fbfa-30fa-46af-868c-3ef80daec902"
      },
      "source": [
        "print('pakistan',end=\"\\n\\n\")\n",
        "print('Is',end=\"\\n\")\n",
        "print('the Best')"
      ],
      "execution_count": null,
      "outputs": [
        {
          "output_type": "stream",
          "text": [
            "pakistan\n",
            "\n",
            "Is\n",
            "the Best\n"
          ],
          "name": "stdout"
        }
      ]
    },
    {
      "cell_type": "code",
      "metadata": {
        "colab": {
          "base_uri": "https://localhost:8080/"
        },
        "id": "L1GJeRRDfoZc",
        "outputId": "463c40c8-cde9-458e-9b20-0893f2cb54a3"
      },
      "source": [
        "#single quote\n",
        "txt = 'It\\'s alright.'\n",
        "print(txt) "
      ],
      "execution_count": null,
      "outputs": [
        {
          "output_type": "stream",
          "text": [
            "It's alright.\n"
          ],
          "name": "stdout"
        }
      ]
    },
    {
      "cell_type": "code",
      "metadata": {
        "colab": {
          "base_uri": "https://localhost:8080/"
        },
        "id": "yUD2e1z0f661",
        "outputId": "e9abc918-339b-43d5-ab93-4ada96ad3f99"
      },
      "source": [
        "txt = \"This will insert one \\\\ (backslash).\"\n",
        "print(txt) "
      ],
      "execution_count": null,
      "outputs": [
        {
          "output_type": "stream",
          "text": [
            "This will insert one \\ (backslash).\n"
          ],
          "name": "stdout"
        }
      ]
    },
    {
      "cell_type": "code",
      "metadata": {
        "colab": {
          "base_uri": "https://localhost:8080/"
        },
        "id": "cM1hGkL1gC3Y",
        "outputId": "8ac6e2e2-7fa4-4bd4-e68c-e25964581d0d"
      },
      "source": [
        "txt = \" Hello \\n World!\"\n",
        "print(txt) "
      ],
      "execution_count": null,
      "outputs": [
        {
          "output_type": "stream",
          "text": [
            " Hello \n",
            " World!\n"
          ],
          "name": "stdout"
        }
      ]
    },
    {
      "cell_type": "code",
      "metadata": {
        "colab": {
          "base_uri": "https://localhost:8080/"
        },
        "id": "54vFeP7tgZPp",
        "outputId": "bbd21035-1dc1-4fda-ac2e-e523bf2ec652"
      },
      "source": [
        "#This example erases one character (backspace):\n",
        "txt = \"Hello \\bWorld!\"\n",
        "print(txt) \n"
      ],
      "execution_count": null,
      "outputs": [
        {
          "output_type": "stream",
          "text": [
            "Hello \bWorld!\n"
          ],
          "name": "stdout"
        }
      ]
    },
    {
      "cell_type": "code",
      "metadata": {
        "colab": {
          "base_uri": "https://localhost:8080/"
        },
        "id": "asDEv6-igjJD",
        "outputId": "3bc41f9e-3cbc-4efb-9b0f-cf7a4cc7412f"
      },
      "source": [
        "#A backslash followed by three integers will result in a octal value:\n",
        "txt = \"\\110\\145\\154\\154\\157\"\n",
        "print(txt) "
      ],
      "execution_count": null,
      "outputs": [
        {
          "output_type": "stream",
          "text": [
            "Hello\n"
          ],
          "name": "stdout"
        }
      ]
    },
    {
      "cell_type": "code",
      "metadata": {
        "colab": {
          "base_uri": "https://localhost:8080/"
        },
        "id": "KEsBaNIEgmd7",
        "outputId": "1b96de1d-ec50-4d88-b420-07251d1aee17"
      },
      "source": [
        "#A backslash followed by an 'x' and a hex number represents a hex value:\n",
        "txt = \"\\x48\\x65\\x6c\\x6c\\x6f\"\n",
        "print(txt) \n"
      ],
      "execution_count": null,
      "outputs": [
        {
          "output_type": "stream",
          "text": [
            "Hello\n"
          ],
          "name": "stdout"
        }
      ]
    }
  ]
}
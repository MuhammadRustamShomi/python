{
  "nbformat": 4,
  "nbformat_minor": 0,
  "metadata": {
    "colab": {
      "name": "Variable+ Opraters .ipynb",
      "provenance": [],
      "authorship_tag": "ABX9TyMemstWHVCdJWkpyUb2d85p",
      "include_colab_link": true
    },
    "kernelspec": {
      "name": "python3",
      "display_name": "Python 3"
    },
    "language_info": {
      "name": "python"
    }
  },
  "cells": [
    {
      "cell_type": "markdown",
      "metadata": {
        "id": "view-in-github",
        "colab_type": "text"
      },
      "source": [
        "<a href=\"https://colab.research.google.com/github/MuhammadRustamShomi/python/blob/main/Variable%2B_Opraters_.ipynb\" target=\"_parent\"><img src=\"https://colab.research.google.com/assets/colab-badge.svg\" alt=\"Open In Colab\"/></a>"
      ]
    },
    {
      "cell_type": "code",
      "metadata": {
        "id": "70C6RXUBTcpv"
      },
      "source": [
        "a = 10\n",
        "#a is a variable name (identifier)\n",
        "# = assigment oprater \n",
        "# int value 10 is assigned to variable a"
      ],
      "execution_count": null,
      "outputs": []
    },
    {
      "cell_type": "code",
      "metadata": {
        "colab": {
          "base_uri": "https://localhost:8080/"
        },
        "id": "aqaCpjpOWa6o",
        "outputId": "6e01cfec-587b-4cb4-b41f-d6938f82846c"
      },
      "source": [
        "print(a)"
      ],
      "execution_count": null,
      "outputs": [
        {
          "output_type": "stream",
          "text": [
            "10\n"
          ],
          "name": "stdout"
        }
      ]
    },
    {
      "cell_type": "code",
      "metadata": {
        "colab": {
          "base_uri": "https://localhost:8080/"
        },
        "id": "TsIA8GXlWm_x",
        "outputId": "3b2de356-9776-4394-eca0-10f9cdf2ae97"
      },
      "source": [
        "a = 10.2\n",
        "print(a)"
      ],
      "execution_count": null,
      "outputs": [
        {
          "output_type": "stream",
          "text": [
            "10.2\n"
          ],
          "name": "stdout"
        }
      ]
    },
    {
      "cell_type": "code",
      "metadata": {
        "colab": {
          "base_uri": "https://localhost:8080/"
        },
        "id": "zti9UqRkW5WV",
        "outputId": "c30c0555-9fb3-4694-98b4-ab230584b5f2"
      },
      "source": [
        "type(a)"
      ],
      "execution_count": null,
      "outputs": [
        {
          "output_type": "execute_result",
          "data": {
            "text/plain": [
              "float"
            ]
          },
          "metadata": {
            "tags": []
          },
          "execution_count": 7
        }
      ]
    },
    {
      "cell_type": "code",
      "metadata": {
        "colab": {
          "base_uri": "https://localhost:8080/"
        },
        "id": "FCw77--6XAEg",
        "outputId": "07065d91-647a-4d61-e90d-0ab8923bf3fa"
      },
      "source": [
        "a= \"2\"\n",
        "type(a)"
      ],
      "execution_count": null,
      "outputs": [
        {
          "output_type": "execute_result",
          "data": {
            "text/plain": [
              "str"
            ]
          },
          "metadata": {
            "tags": []
          },
          "execution_count": 8
        }
      ]
    },
    {
      "cell_type": "code",
      "metadata": {
        "colab": {
          "base_uri": "https://localhost:8080/"
        },
        "id": "IciXMHp1YnCe",
        "outputId": "1abd9355-a11f-4545-9cb4-c64176b34c8b"
      },
      "source": [
        "student_name ='Rustam'\n",
        "father_name='Mehram'\n",
        "print(student_name+father_name)"
      ],
      "execution_count": null,
      "outputs": [
        {
          "output_type": "stream",
          "text": [
            "RustamMehram\n"
          ],
          "name": "stdout"
        }
      ]
    },
    {
      "cell_type": "code",
      "metadata": {
        "colab": {
          "base_uri": "https://localhost:8080/"
        },
        "id": "87_cEUhmZDbc",
        "outputId": "985ccd0e-c745-4242-efc8-44eaf400060a"
      },
      "source": [
        "num1= 100 \n",
        "num2= 200 \n",
        "print(num1+num2)\n",
        "#sum = num1+num2\n",
        "#print(sum)"
      ],
      "execution_count": null,
      "outputs": [
        {
          "output_type": "stream",
          "text": [
            "300\n"
          ],
          "name": "stdout"
        }
      ]
    },
    {
      "cell_type": "code",
      "metadata": {
        "colab": {
          "base_uri": "https://localhost:8080/"
        },
        "id": "EBntuUqFaB5s",
        "outputId": "8b73f3e5-a597-4ef7-c1d4-c18a8fc53e58"
      },
      "source": [
        "# Opraters + - * % \n",
        "print(23+22)"
      ],
      "execution_count": null,
      "outputs": [
        {
          "output_type": "stream",
          "text": [
            "45\n"
          ],
          "name": "stdout"
        }
      ]
    },
    {
      "cell_type": "code",
      "metadata": {
        "colab": {
          "base_uri": "https://localhost:8080/"
        },
        "id": "DXVU8vRGahJH",
        "outputId": "0b365d1d-8d74-4a52-b1a4-3a8b3bc0ab73"
      },
      "source": [
        "a = 33\n",
        "b = 22\n",
        "c = a+b\n",
        "print(c)"
      ],
      "execution_count": null,
      "outputs": [
        {
          "output_type": "stream",
          "text": [
            "55\n"
          ],
          "name": "stdout"
        }
      ]
    },
    {
      "cell_type": "code",
      "metadata": {
        "colab": {
          "base_uri": "https://localhost:8080/"
        },
        "id": "nV6rWw5Da4BA",
        "outputId": "732c554a-12b7-4f1c-da9c-1a41d23bfd85"
      },
      "source": [
        "val1 = 18\n",
        "val2 = 12.5\n",
        "sum = val1-val2\n",
        "print(sum)"
      ],
      "execution_count": null,
      "outputs": [
        {
          "output_type": "stream",
          "text": [
            "5.5\n"
          ],
          "name": "stdout"
        }
      ]
    },
    {
      "cell_type": "code",
      "metadata": {
        "colab": {
          "base_uri": "https://localhost:8080/"
        },
        "id": "Cy7oGLDyblHb",
        "outputId": "6975003d-6b17-47a4-d7db-d493a733334c"
      },
      "source": [
        "val1 = 18\n",
        "val2 = 12.5\n",
        "sum = val1*val2\n",
        "print(sum)"
      ],
      "execution_count": null,
      "outputs": [
        {
          "output_type": "stream",
          "text": [
            "225.0\n"
          ],
          "name": "stdout"
        }
      ]
    },
    {
      "cell_type": "code",
      "metadata": {
        "colab": {
          "base_uri": "https://localhost:8080/"
        },
        "id": "Y969jCIIb0z-",
        "outputId": "1c646ebe-9ecc-490e-ee4b-c400ad610c0c"
      },
      "source": [
        "val1 = 20\n",
        "val2 = 10\n",
        "sum = val1/val2\n",
        "print(sum)"
      ],
      "execution_count": null,
      "outputs": [
        {
          "output_type": "stream",
          "text": [
            "2.0\n"
          ],
          "name": "stdout"
        }
      ]
    },
    {
      "cell_type": "code",
      "metadata": {
        "colab": {
          "base_uri": "https://localhost:8080/"
        },
        "id": "crW1taHJb5WB",
        "outputId": "c9291429-a86f-4875-885c-07f3775a5154"
      },
      "source": [
        "val1 = 20\n",
        "val2 = 10\n",
        "sum = val1 // val2\n",
        "print(sum)"
      ],
      "execution_count": null,
      "outputs": [
        {
          "output_type": "stream",
          "text": [
            "2\n"
          ],
          "name": "stdout"
        }
      ]
    }
  ]
}
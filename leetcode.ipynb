{
  "nbformat": 4,
  "nbformat_minor": 0,
  "metadata": {
    "colab": {
      "name": "leetcode.ipynb",
      "provenance": [],
      "authorship_tag": "ABX9TyNpTt1NehypFiipESDyl4rt",
      "include_colab_link": true
    },
    "kernelspec": {
      "name": "python3",
      "display_name": "Python 3"
    },
    "language_info": {
      "name": "python"
    }
  },
  "cells": [
    {
      "cell_type": "markdown",
      "metadata": {
        "id": "view-in-github",
        "colab_type": "text"
      },
      "source": [
        "<a href=\"https://colab.research.google.com/github/MuhammadRustamShomi/python/blob/main/leetcode.ipynb\" target=\"_parent\"><img src=\"https://colab.research.google.com/assets/colab-badge.svg\" alt=\"Open In Colab\"/></a>"
      ]
    },
    {
      "cell_type": "code",
      "execution_count": null,
      "metadata": {
        "colab": {
          "base_uri": "https://localhost:8080/"
        },
        "id": "UEqg7oS_PKgH",
        "outputId": "8c696027-b832-488d-b2c5-0e191d13a02e"
      },
      "outputs": [
        {
          "output_type": "execute_result",
          "data": {
            "text/plain": [
              "[4, 2, 1, 3]"
            ]
          },
          "metadata": {},
          "execution_count": 1
        }
      ],
      "source": [
        "def beautifulArray(n):\n",
        "        return sorted(range(1, n+1), key=lambda x: bin(x)[:1:-1])\n",
        "beautifulArray(4)"
      ]
    },
    {
      "cell_type": "code",
      "source": [
        "n = 4\n",
        "sorted(range(1,n+1), key = lambda x:bin(x)[:1:-1])"
      ],
      "metadata": {
        "colab": {
          "base_uri": "https://localhost:8080/"
        },
        "id": "b0ApnJiwPgtE",
        "outputId": "f60a4fc5-a968-4deb-8f63-8ebd9a5ac971"
      },
      "execution_count": null,
      "outputs": [
        {
          "output_type": "execute_result",
          "data": {
            "text/plain": [
              "[4, 2, 1, 3]"
            ]
          },
          "metadata": {},
          "execution_count": 5
        }
      ]
    },
    {
      "cell_type": "code",
      "source": [
        "from collections import Counter \n"
      ],
      "metadata": {
        "id": "-JRNERG5GGyn"
      },
      "execution_count": null,
      "outputs": []
    },
    {
      "cell_type": "code",
      "source": [
        "class CustomStack:\n",
        "\n",
        "    def __init__(self, maxSize: int):\n",
        "        self.inc = Counter() \n",
        "        self.s = []\n",
        "        self.maxSize = maxSize\n",
        "\n",
        "    def push(self, x: int) -> None:\n",
        "        if len(self.s) < self.maxSize:\n",
        "            self.s.append(x)\n",
        "\n",
        "    def pop(self) -> int:\n",
        "        if not self.s:\n",
        "            return -1\n",
        "        inc = self.inc[len(self.s)]\n",
        "        x = self.s[-1]\n",
        "        self.inc[len(self.s) - 1] += self.inc[len(self.s)]\n",
        "        self.inc[len(self.s)] = 0\n",
        "        self.s.pop()\n",
        "        return x + inc\n",
        "    def print(self):\n",
        "      return self.s\n",
        "\n",
        "    def increment(self, k: int, val: int) -> None:\n",
        "        self.inc[min(k, len(self.s))] += val\n"
      ],
      "metadata": {
        "id": "5EioC3zcQclb"
      },
      "execution_count": null,
      "outputs": []
    },
    {
      "cell_type": "code",
      "source": [
        "res = CustomStack(5)\n",
        "res.push(1)\n",
        "res.push(2)\n",
        "res.push(3)\n",
        "res.push(4)\n",
        "res.push(5)\n",
        "res.push(6)\n",
        "res.print()"
      ],
      "metadata": {
        "colab": {
          "base_uri": "https://localhost:8080/"
        },
        "id": "HLRZcFCKFwtc",
        "outputId": "63511d14-79cc-4984-eff2-038c8f374666"
      },
      "execution_count": null,
      "outputs": [
        {
          "output_type": "execute_result",
          "data": {
            "text/plain": [
              "[1, 2, 3, 4, 5]"
            ]
          },
          "metadata": {},
          "execution_count": 11
        }
      ]
    },
    {
      "cell_type": "code",
      "source": [
        ""
      ],
      "metadata": {
        "colab": {
          "base_uri": "https://localhost:8080/",
          "height": 165
        },
        "id": "90bbleaRHXvL",
        "outputId": "b735c458-3a6e-4586-a9e0-97083f7fd3f7"
      },
      "execution_count": null,
      "outputs": [
        {
          "output_type": "error",
          "ename": "NameError",
          "evalue": "ignored",
          "traceback": [
            "\u001b[0;31m---------------------------------------------------------------------------\u001b[0m",
            "\u001b[0;31mNameError\u001b[0m                                 Traceback (most recent call last)",
            "\u001b[0;32m<ipython-input-9-ded5ba42480f>\u001b[0m in \u001b[0;36m<module>\u001b[0;34m()\u001b[0m\n\u001b[0;32m----> 1\u001b[0;31m \u001b[0ms\u001b[0m\u001b[0;34m\u001b[0m\u001b[0;34m\u001b[0m\u001b[0m\n\u001b[0m",
            "\u001b[0;31mNameError\u001b[0m: name 's' is not defined"
          ]
        }
      ]
    }
  ]
}